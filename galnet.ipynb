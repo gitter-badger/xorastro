{
 "cells": [
  {
   "cell_type": "code",
   "execution_count": null,
   "metadata": {
    "collapsed": false
   },
   "outputs": [],
   "source": [
    "# ------------------------------------------------------------------------------\n",
    "# Set training variables\n",
    "# ------------------------------------------------------------------------------\n",
    "\n",
    "# System level\n",
    "import sys\n",
    "\n",
    "# Arrays\n",
    "import numpy as np\n",
    "\n",
    "# Keras (www.keras.io)\n",
    "from keras.models import Sequential, Model\n",
    "from keras.layers import Input, Flatten, Dense, Activation, Dropout, merge, Concatenate\n",
    "from keras.layers import Conv2D, MaxPooling2D, Convolution2D\n",
    "from keras.layers.normalization import BatchNormalization\n",
    "from keras.optimizers import SGD\n",
    "from keras.models import model_from_json\n",
    "from keras.utils import np_utils\n",
    "from keras import backend as K\n",
    "from keras.callbacks import Callback, ModelCheckpoint\n",
    "from keras.preprocessing.image import ImageDataGenerator\n",
    "\n",
    "# Sklearn (for machine learning)\n",
    "from sklearn import metrics\n",
    "\n",
    "# Plots\n",
    "import matplotlib.cm as cm\n",
    "import matplotlib.image as mpimg\n",
    "import matplotlib.gridspec as gridspec\n",
    "from matplotlib import pyplot as plt\n",
    "from mpl_toolkits.axes_grid1 import make_axes_locatable\n",
    "%matplotlib inline\n",
    "try:\n",
    "    import seaborn as sns\n",
    "except:\n",
    "    pass"
   ]
  },
  {
   "cell_type": "code",
   "execution_count": null,
   "metadata": {
    "collapsed": true
   },
   "outputs": [],
   "source": [
    "from astropy.table import Table"
   ]
  },
  {
   "cell_type": "code",
   "execution_count": null,
   "metadata": {
    "collapsed": false
   },
   "outputs": [],
   "source": [
    "conv00 = Conv2D(nb_filter=32, kernel_size=(6,6), strides=1, activation='softplus')\n",
    "conv01 = Conv2D(nb_filter=64, kernel_size=(5,5), strides=1, activation='softplus')\n",
    "conv02 = Conv2D(nb_filter=128, kernel_size=(3,3), strides=1, activation='softplus')\n",
    "conv03 = Conv2D(nb_filter=128, kernel_size=(3,3), strides=1, activation='softplus')\n",
    "\n",
    "def make_branch(x):\n",
    "    c00 = conv00(x)\n",
    "    p00 = MaxPooling2D(pool_size=(2, 2))(c00)\n",
    "    c01 = conv01(p00)\n",
    "    p01 = MaxPooling2D(pool_size=(2, 2))(c01)\n",
    "    c02 = conv02(p01)\n",
    "    c03 = conv03(c02)\n",
    "    p03 = MaxPooling2D(pool_size=(2, 2))(c03)\n",
    "    f03 = Flatten()(p03)\n",
    "    return f03"
   ]
  },
  {
   "cell_type": "code",
   "execution_count": null,
   "metadata": {
    "collapsed": false
   },
   "outputs": [],
   "source": [
    "metadata = Table.read('/Users/jegpeek/Dropbox/xorastro/top10k_meta', format='ascii.html')\n",
    "perspectives = np.load('/Users/jegpeek/Dropbox/xorastro/perspectives.npy')"
   ]
  },
  {
   "cell_type": "code",
   "execution_count": null,
   "metadata": {
    "collapsed": false
   },
   "outputs": [],
   "source": [
    "perspectives.shape"
   ]
  },
  {
   "cell_type": "code",
   "execution_count": null,
   "metadata": {
    "collapsed": false
   },
   "outputs": [],
   "source": [
    "colorall = metadata[:]['g']-metadata[:]['i']\n",
    "colorcut = ((colorall > 0.6) & (colorall < 1.7))\n",
    "color = colorall[np.where(colorcut)]\n",
    "len(color)"
   ]
  },
  {
   "cell_type": "code",
   "execution_count": null,
   "metadata": {
    "collapsed": false
   },
   "outputs": [],
   "source": [
    "perspectives_rs_all = perspectives.reshape(45, 45, 10000, 16)\n",
    "persepctives_rs = perspectives_rs_all[:, :, np.where(colorcut)[0], :]\n",
    "traindata = perspectives_rs[:, :, 0:8000,:]\n",
    "validdata = perspectives_rs[:, :, 8000:9000,:]\n",
    "testdata = persepctives_rs[:, :, 9000:, :]"
   ]
  },
  {
   "cell_type": "code",
   "execution_count": null,
   "metadata": {
    "collapsed": false
   },
   "outputs": [],
   "source": [
    "traindata.shape"
   ]
  },
  {
   "cell_type": "code",
   "execution_count": null,
   "metadata": {
    "collapsed": false
   },
   "outputs": [],
   "source": [
    "cc_train = []\n",
    "cc_valid = []\n",
    "cc_test = []\n",
    "for i in range(16):\n",
    "    cc_train.append(np.rollaxis(traindata[:,:,:,i].reshape([45, 45,1, 8000]), 3))\n",
    "    cc_valid.append(np.rollaxis(validdata[:,:,:,i].reshape([45, 45, 1,1000]), 3))\n",
    "    cc_test.append(np.rollaxis(testdata[:,:,:,i].reshape([45, 45, 1, 444]), 3))"
   ]
  },
  {
   "cell_type": "code",
   "execution_count": null,
   "metadata": {
    "collapsed": false
   },
   "outputs": [],
   "source": [
    "cc_test[0].shape"
   ]
  },
  {
   "cell_type": "code",
   "execution_count": null,
   "metadata": {
    "collapsed": true
   },
   "outputs": [],
   "source": [
    "y_train = color[0:8000]\n",
    "y_valid= color[8000:9000]\n",
    "y_test = color[9000:]"
   ]
  },
  {
   "cell_type": "code",
   "execution_count": null,
   "metadata": {
    "collapsed": false
   },
   "outputs": [],
   "source": [
    "y_test.shape"
   ]
  },
  {
   "cell_type": "code",
   "execution_count": null,
   "metadata": {
    "collapsed": false
   },
   "outputs": [],
   "source": [
    "print(np.sum((color-np.mean(color))**2)/len(color))"
   ]
  },
  {
   "cell_type": "code",
   "execution_count": null,
   "metadata": {
    "collapsed": false
   },
   "outputs": [],
   "source": [
    "# ------------------------------------------------------------------------------\n",
    "# Set up model architecture\n",
    "# see Figure 4, Figure 8, and Table 2 of Dielemannnnn paper\n",
    "# ------------------------------------------------------------------------------\n",
    "\n",
    "# Define architecture for model\n",
    "#data_shape = [45, 45] #np.shape(x_data)\n",
    "input_shape = (45, 45, 1)\n",
    "\n",
    "# merge via concatenation\n",
    "#branch_list = []\n",
    "# DOING IT THE HARD WAY   \n",
    "#x00 = Input(shape=input_shape)\n",
    "#c00_0 = Conv2D(nb_filter=32, kernel_size=(6,6), strides=1, activation='softplus')(x00)\n",
    "#p00_0 = MaxPooling2D(pool_size=(2, 2))(c00_0)\n",
    "#c00_1 = Conv2D(nb_filter=64, kernel_size=(5,5), strides=1, activation='softplus')(p00_0)\n",
    "#p00_1 = MaxPooling2D(pool_size=(2, 2))(c00_1)\n",
    "#c00_2 = Conv2D(nb_filter=128, kernel_size=(3,3), strides=1, activation='softplus')(p00_1)\n",
    "#c00_3 = Conv2D(nb_filter=128, kernel_size=(3,3), strides=1, activation='softplus')(c00_2)\n",
    "#p00_3 = MaxPooling2D(pool_size=(2, 2))(c00_3)\n",
    "'''\n",
    "x00 = Input(shape=input_shape)\n",
    "c00_0 = Conv2D(nb_filter=32, kernel_size=(6,6), strides=1, activation='softplus')(x00)\n",
    "p00_0 = MaxPooling2D(pool_size=(2, 2))(c00_0)\n",
    "c00_1 = Conv2D(nb_filter=64, kernel_size=(5,5), strides=1, activation='softplus')(p00_0)\n",
    "p00_1 = MaxPooling2D(pool_size=(2, 2))(c00_1)\n",
    "c02 = Conv2D(nb_filter=128, kernel_size=(3,3), strides=1, activation='softplus')(p00_1)\n",
    "c03 = Conv2D(nb_filter=128, kernel_size=(3,3), strides=1, activation='softplus')(c02)\n",
    "p03 = MaxPooling2D(pool_size=(2, 2))(c03)\n",
    "'''\n",
    "x00 = Input(shape=input_shape)\n",
    "x01 = Input(shape=input_shape)\n",
    "x02 = Input(shape=input_shape)\n",
    "x03 = Input(shape=input_shape)\n",
    "x04 = Input(shape=input_shape)\n",
    "x05 = Input(shape=input_shape)\n",
    "x06 = Input(shape=input_shape)\n",
    "x07 = Input(shape=input_shape)\n",
    "x08 = Input(shape=input_shape)\n",
    "x09 = Input(shape=input_shape)\n",
    "x10 = Input(shape=input_shape)\n",
    "x11 = Input(shape=input_shape)\n",
    "x12 = Input(shape=input_shape)\n",
    "x13 = Input(shape=input_shape)\n",
    "x14 = Input(shape=input_shape)\n",
    "x15 = Input(shape=input_shape)\n",
    "\n",
    "#a1 = make_branch(input_shape)\n",
    "#a2 = make_branch(input_shape)\n",
    "merge = Concatenate()([make_branch(x00),make_branch(x01),make_branch(x02),make_branch(x03),make_branch(x04),make_branch(x05),make_branch(x06),make_branch(x07),make_branch(x08),make_branch(x09),make_branch(x10),make_branch(x11),make_branch(x12),make_branch(x13),make_branch(x14),make_branch(x15)]) #[a1, a2])\n",
    "#([make_branch() for i in range(16)])\n",
    "\n",
    "# Dense layers\n",
    "d0 = Dense(2048)(merge)\n",
    "d1 = Dense(2048)(d0)\n",
    "\n",
    "#output layer\n",
    "y = Dense(1)(d1)\n",
    "\n",
    "model = Model(input=[x00,x01,x02, x03,x04,x05,x06,x07,x08,x09,x10,x11,x12,x13,x14,x15], outputs=y)\n",
    "\n",
    "optimizer = 'adadelta'\n",
    "metrics_model = ['accuracy']\n",
    "loss = 'mse'\n",
    "model.compile(loss=loss, optimizer=optimizer, metrics=metrics_model)\n",
    "model.summary()"
   ]
  },
  {
   "cell_type": "code",
   "execution_count": null,
   "metadata": {
    "collapsed": false
   },
   "outputs": [],
   "source": [
    "model.fit(x=cc_train, y=y_train, batch_size=16, epochs=12, validation_data=(cc_valid,y_valid))"
   ]
  },
  {
   "cell_type": "code",
   "execution_count": null,
   "metadata": {
    "collapsed": true
   },
   "outputs": [],
   "source": [
    "valid_color = model.predict(cc_valid)"
   ]
  },
  {
   "cell_type": "code",
   "execution_count": null,
   "metadata": {
    "collapsed": false
   },
   "outputs": [],
   "source": [
    "plt.plot(y_valid,valid_color, '.')\n",
    "plt.xlim([0, 2])\n",
    "plt.ylim([0, 2])"
   ]
  },
  {
   "cell_type": "code",
   "execution_count": null,
   "metadata": {
    "collapsed": true
   },
   "outputs": [],
   "source": []
  }
 ],
 "metadata": {
  "kernelspec": {
   "display_name": "Python 3",
   "language": "python",
   "name": "python3"
  },
  "language_info": {
   "codemirror_mode": {
    "name": "ipython",
    "version": 3
   },
   "file_extension": ".py",
   "mimetype": "text/x-python",
   "name": "python",
   "nbconvert_exporter": "python",
   "pygments_lexer": "ipython3",
   "version": "3.6.0"
  }
 },
 "nbformat": 4,
 "nbformat_minor": 2
}
