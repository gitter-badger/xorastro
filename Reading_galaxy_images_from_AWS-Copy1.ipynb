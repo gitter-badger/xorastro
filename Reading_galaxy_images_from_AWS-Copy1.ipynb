{
 "cells": [
  {
   "cell_type": "markdown",
   "metadata": {},
   "source": [
    "OK, just want to test out reading in the galaxy images from AWS"
   ]
  },
  {
   "cell_type": "code",
   "execution_count": 16,
   "metadata": {
    "collapsed": false
   },
   "outputs": [],
   "source": [
    "import astropy.io.ascii as ascii\n",
    "import numpy as np\n",
    "from PIL import Image\n",
    "import requests\n",
    "from io import BytesIO\n",
    "import astropy.visualization as viz\n",
    "import matplotlib.pyplot as plt\n",
    "import astropy.io.fits as fits\n",
    "import astropy.wcs as WCS # you need this astropy module for processing fits files\n",
    "import matplotlib as mpl\n",
    "import numpy as np\n",
    "import tqdm\n",
    "from astropy.table import Table, join\n",
    "% inline matplotlib"
   ]
  },
  {
   "cell_type": "code",
   "execution_count": 2,
   "metadata": {
    "collapsed": true
   },
   "outputs": [],
   "source": [
    "filename = 'galaxyzoo2--assets--14-07-2017.csv'\n",
    "path = '/Users/jegpeek/Dropbox/xorastro/'"
   ]
  },
  {
   "cell_type": "code",
   "execution_count": 3,
   "metadata": {
    "collapsed": false
   },
   "outputs": [],
   "source": [
    "data = ascii.read(path + filename, format='csv', fast_reader=False)"
   ]
  },
  {
   "cell_type": "code",
   "execution_count": 4,
   "metadata": {
    "collapsed": false
   },
   "outputs": [],
   "source": [
    "response = requests.get(data[90]['location'])\n",
    "img = Image.open(BytesIO(response.content))"
   ]
  },
  {
   "cell_type": "code",
   "execution_count": 5,
   "metadata": {
    "collapsed": false
   },
   "outputs": [],
   "source": [
    "red, green, blue = img.split()"
   ]
  },
  {
   "cell_type": "code",
   "execution_count": 6,
   "metadata": {
    "collapsed": true
   },
   "outputs": [],
   "source": [
    "imgcube = np.zeros([424, 424, len(data)])"
   ]
  },
  {
   "cell_type": "code",
   "execution_count": 7,
   "metadata": {
    "collapsed": false
   },
   "outputs": [],
   "source": [
    "for i, d in enumerate(data[0:10]):\n",
    "    response = requests.get(d['location'])\n",
    "    img = Image.open(BytesIO(response.content))\n",
    "    red, green, blue = img.split()\n",
    "    imgcube[:, :, i] = green # confusingly green is SDSS r band"
   ]
  },
  {
   "cell_type": "code",
   "execution_count": 9,
   "metadata": {
    "collapsed": false
   },
   "outputs": [
    {
     "data": {
      "text/plain": [
       "array([[  0.,   0.,   5., ...,   3.,   4.,   5.],\n",
       "       [  0.,   1.,   3., ...,   5.,   5.,   6.],\n",
       "       [  3.,   2.,   2., ...,   5.,   4.,   4.],\n",
       "       ..., \n",
       "       [  6.,   7.,   7., ...,   4.,   5.,  10.],\n",
       "       [  4.,   7.,   9., ...,   6.,   5.,   8.],\n",
       "       [  4.,   9.,  13., ...,   7.,   4.,   6.]])"
      ]
     },
     "execution_count": 9,
     "metadata": {},
     "output_type": "execute_result"
    }
   ],
   "source": [
    "imgcube[:, :, 0]"
   ]
  },
  {
   "cell_type": "code",
   "execution_count": 14,
   "metadata": {
    "collapsed": false
   },
   "outputs": [
    {
     "data": {
      "text/plain": [
       "355990"
      ]
     },
     "execution_count": 14,
     "metadata": {},
     "output_type": "execute_result"
    }
   ],
   "source": [
    "len(data)"
   ]
  },
  {
   "cell_type": "markdown",
   "metadata": {},
   "source": [
    "Now we are going to read in the metadata header to cross-match on ID"
   ]
  },
  {
   "cell_type": "code",
   "execution_count": 17,
   "metadata": {
    "collapsed": false
   },
   "outputs": [],
   "source": [
    "metadata = Table.read(path + \"xorastro_metadata_dr7id.fits\")"
   ]
  },
  {
   "cell_type": "code",
   "execution_count": 18,
   "metadata": {
    "collapsed": false
   },
   "outputs": [
    {
     "data": {
      "text/plain": [
       "664393"
      ]
     },
     "execution_count": 18,
     "metadata": {},
     "output_type": "execute_result"
    }
   ],
   "source": [
    "len(metadata)"
   ]
  },
  {
   "cell_type": "code",
   "execution_count": 29,
   "metadata": {
    "collapsed": false
   },
   "outputs": [],
   "source": [
    "data.rename_column('name', 'dr7objid')"
   ]
  },
  {
   "cell_type": "code",
   "execution_count": 19,
   "metadata": {
    "collapsed": false
   },
   "outputs": [
    {
     "data": {
      "text/html": [
       "&lt;Table masked=True length=664393&gt;\n",
       "<table id=\"table4808810056\" class=\"table-striped table-bordered table-condensed\">\n",
       "<thead><tr><th>objid</th><th>ra</th><th>dec</th><th>u</th><th>g</th><th>r</th><th>i</th><th>z</th><th>dr7objid</th></tr></thead>\n",
       "<thead><tr><th>int64</th><th>float64</th><th>float64</th><th>float32</th><th>float32</th><th>float32</th><th>float32</th><th>float32</th><th>int64</th></tr></thead>\n",
       "<tr><td>1237648702968627397</td><td>188.358919127</td><td>-1.13789162121</td><td>19.9896</td><td>18.3103</td><td>17.7158</td><td>17.3921</td><td>17.1477</td><td>587722981743722704</td></tr>\n",
       "<tr><td>1237648702985994607</td><td>228.063297529</td><td>-1.08079048805</td><td>18.8233</td><td>16.9535</td><td>16.0956</td><td>15.6736</td><td>15.3461</td><td>587729778523963718</td></tr>\n",
       "<tr><td>1237648703515656271</td><td>211.566820575</td><td>-0.641101471062</td><td>18.8287</td><td>16.8623</td><td>15.9147</td><td>15.4594</td><td>15.134</td><td>587722982290751578</td></tr>\n",
       "<tr><td>1237648703515721922</td><td>211.693298897</td><td>-0.788083074138</td><td>19.4108</td><td>17.4369</td><td>16.4775</td><td>16.0366</td><td>15.6531</td><td>587722982290817229</td></tr>\n",
       "<tr><td>1237648703515787525</td><td>211.870049173</td><td>-0.7409002147</td><td>20.2416</td><td>18.285</td><td>17.3289</td><td>16.9156</td><td>16.5698</td><td>587722982290882809</td></tr>\n",
       "<tr><td>1237648703515787559</td><td>211.904639367</td><td>-0.76476649291</td><td>18.3414</td><td>17.424</td><td>17.0828</td><td>16.7945</td><td>16.6918</td><td>587722982290882831</td></tr>\n",
       "<tr><td>1237648703515852909</td><td>211.907136082</td><td>-0.806731147013</td><td>19.9837</td><td>18.2474</td><td>17.4737</td><td>17.0693</td><td>16.7534</td><td>587722982290948228</td></tr>\n",
       "<tr><td>1237648703515918459</td><td>212.080249294</td><td>-0.648259519948</td><td>19.3668</td><td>17.56</td><td>16.7218</td><td>16.3067</td><td>15.9879</td><td>587722982291013783</td></tr>\n",
       "<tr><td>1237648703515918471</td><td>212.085592618</td><td>-0.675436604757</td><td>19.5534</td><td>18.0383</td><td>17.2769</td><td>16.8942</td><td>16.6295</td><td>587722982291013790</td></tr>\n",
       "<tr><td>1237648703515918478</td><td>212.095451088</td><td>-0.74618725847</td><td>20.565</td><td>18.6113</td><td>17.6822</td><td>17.2573</td><td>16.9217</td><td>587722982291013798</td></tr>\n",
       "<tr><td>...</td><td>...</td><td>...</td><td>...</td><td>...</td><td>...</td><td>...</td><td>...</td><td>...</td></tr>\n",
       "<tr><td>1237668706224046175</td><td>250.584942426</td><td>14.0346563222</td><td>21.5328</td><td>18.4403</td><td>17.1165</td><td>16.5331</td><td>16.114</td><td>587739721387999475</td></tr>\n",
       "<tr><td>1237665532801581498</td><td>250.631384389</td><td>13.006832987</td><td>20.5279</td><td>18.8122</td><td>17.789</td><td>17.2975</td><td>16.9497</td><td>587739720314519884</td></tr>\n",
       "<tr><td>1237668706224242911</td><td>251.069069763</td><td>13.7794177744</td><td>23.3027</td><td>19.1788</td><td>17.8852</td><td>17.3459</td><td>16.974</td><td>587739721388261513</td></tr>\n",
       "<tr><td>1237665532801712690</td><td>250.899820909</td><td>12.8691907057</td><td>20.2909</td><td>18.3891</td><td>17.3133</td><td>16.8525</td><td>16.5393</td><td>587739720314650981</td></tr>\n",
       "<tr><td>1237668365854376376</td><td>247.152072938</td><td>10.2883889832</td><td>20.1179</td><td>18.0236</td><td>16.9942</td><td>16.4636</td><td>15.9923</td><td>587742590407672377</td></tr>\n",
       "<tr><td>1237665532801385175</td><td>250.250014588</td><td>13.0021409779</td><td>20.6924</td><td>18.6398</td><td>17.5136</td><td>17.0011</td><td>16.5859</td><td>587739706888356213</td></tr>\n",
       "<tr><td>1237664887464525990</td><td>246.901843083</td><td>19.7693860577</td><td>19.8239</td><td>18.3442</td><td>17.5709</td><td>17.1347</td><td>16.891</td><td>587739166239621278</td></tr>\n",
       "<tr><td>1237668368001663454</td><td>247.350790637</td><td>12.0510516201</td><td>21.2702</td><td>19.2956</td><td>17.8779</td><td>17.3008</td><td>16.9516</td><td>587739844859658617</td></tr>\n",
       "<tr><td>1237668706224242996</td><td>250.94498091</td><td>13.7866536377</td><td>19.2448</td><td>17.7305</td><td>16.9412</td><td>16.4935</td><td>16.1547</td><td>587739721388196328</td></tr>\n",
       "<tr><td>1237655474503876851</td><td>247.36079354</td><td>43.3104829237</td><td>19.1815</td><td>17.7335</td><td>17.0385</td><td>16.6947</td><td>16.4456</td><td>588007003657732290</td></tr>\n",
       "</table>"
      ],
      "text/plain": [
       "<Table masked=True length=664393>\n",
       "       objid              ra            dec       ...    z         dr7objid     \n",
       "       int64           float64        float64     ... float32       int64       \n",
       "------------------- ------------- --------------- ... ------- ------------------\n",
       "1237648702968627397 188.358919127  -1.13789162121 ... 17.1477 587722981743722704\n",
       "1237648702985994607 228.063297529  -1.08079048805 ... 15.3461 587729778523963718\n",
       "1237648703515656271 211.566820575 -0.641101471062 ...  15.134 587722982290751578\n",
       "1237648703515721922 211.693298897 -0.788083074138 ... 15.6531 587722982290817229\n",
       "1237648703515787525 211.870049173   -0.7409002147 ... 16.5698 587722982290882809\n",
       "1237648703515787559 211.904639367  -0.76476649291 ... 16.6918 587722982290882831\n",
       "1237648703515852909 211.907136082 -0.806731147013 ... 16.7534 587722982290948228\n",
       "1237648703515918459 212.080249294 -0.648259519948 ... 15.9879 587722982291013783\n",
       "1237648703515918471 212.085592618 -0.675436604757 ... 16.6295 587722982291013790\n",
       "1237648703515918478 212.095451088  -0.74618725847 ... 16.9217 587722982291013798\n",
       "                ...           ...             ... ...     ...                ...\n",
       "1237668706224046175 250.584942426   14.0346563222 ...  16.114 587739721387999475\n",
       "1237665532801581498 250.631384389    13.006832987 ... 16.9497 587739720314519884\n",
       "1237668706224242911 251.069069763   13.7794177744 ...  16.974 587739721388261513\n",
       "1237665532801712690 250.899820909   12.8691907057 ... 16.5393 587739720314650981\n",
       "1237668365854376376 247.152072938   10.2883889832 ... 15.9923 587742590407672377\n",
       "1237665532801385175 250.250014588   13.0021409779 ... 16.5859 587739706888356213\n",
       "1237664887464525990 246.901843083   19.7693860577 ...  16.891 587739166239621278\n",
       "1237668368001663454 247.350790637   12.0510516201 ... 16.9516 587739844859658617\n",
       "1237668706224242996  250.94498091   13.7866536377 ... 16.1547 587739721388196328\n",
       "1237655474503876851  247.36079354   43.3104829237 ... 16.4456 588007003657732290"
      ]
     },
     "execution_count": 19,
     "metadata": {},
     "output_type": "execute_result"
    }
   ],
   "source": [
    "metadata"
   ]
  },
  {
   "cell_type": "code",
   "execution_count": 32,
   "metadata": {
    "collapsed": false
   },
   "outputs": [],
   "source": [
    "joined = join(data, metadata, keys=['dr7objid'])"
   ]
  },
  {
   "cell_type": "code",
   "execution_count": 35,
   "metadata": {
    "collapsed": false
   },
   "outputs": [
    {
     "data": {
      "text/plain": [
       "247590"
      ]
     },
     "execution_count": 35,
     "metadata": {},
     "output_type": "execute_result"
    }
   ],
   "source": [
    "len(joined)"
   ]
  },
  {
   "cell_type": "code",
   "execution_count": 36,
   "metadata": {
    "collapsed": false
   },
   "outputs": [
    {
     "data": {
      "text/html": [
       "&lt;Table masked=True length=247590&gt;\n",
       "<table id=\"table4808818640\" class=\"table-striped table-bordered table-condensed\">\n",
       "<thead><tr><th>id</th><th>dr7objid</th><th>project_id</th><th>location</th><th>classification_count</th><th>external_ref</th><th>created_at</th><th>updated_at</th><th>region</th><th>redshift_bin</th><th>magsize_bin</th><th>battle_bin</th><th>ra_1</th><th>dec_1</th><th>stripe82</th><th>stripe82_coadd</th><th>extra_original</th><th>objid</th><th>ra_2</th><th>dec_2</th><th>u</th><th>g</th><th>r</th><th>i</th><th>z</th></tr></thead>\n",
       "<thead><tr><th>int64</th><th>int64</th><th>int64</th><th>str45</th><th>int64</th><th>str83</th><th>str19</th><th>str19</th><th>int64</th><th>int64</th><th>int64</th><th>int64</th><th>float64</th><th>float64</th><th>int64</th><th>int64</th><th>int64</th><th>int64</th><th>float64</th><th>float64</th><th>float32</th><th>float32</th><th>float32</th><th>float32</th><th>float32</th></tr></thead>\n",
       "<tr><td>245610</td><td>587722981736054938</td><td>1</td><td>http://s3.amazonaws.com/zoo2_extra/245610.jpg</td><td>45</td><td>http://cas.sdss.org/dr7/en/tools/quicklook/quickobj.asp?id=587722981736054938</td><td>2009-09-02 06:31:02</td><td>2010-04-12 21:12:00</td><td>2</td><td>-9999</td><td>0</td><td>-9999</td><td>170.80557936</td><td>-1.18214647</td><td>0</td><td>0</td><td>1</td><td>1237674648850923796</td><td>170.805581176</td><td>-1.18213971519</td><td>19.7683</td><td>17.7893</td><td>16.9265</td><td>16.4148</td><td>16.0305</td></tr>\n",
       "<tr><td>3</td><td>587722981741363294</td><td>1</td><td>http://s3.amazonaws.com/zoo2/3.jpg</td><td>63</td><td>http://cas.sdss.org/dr7/en/tools/quicklook/quickobj.asp?id=587722981741363294</td><td>2009-01-30 15:52:07</td><td>2010-01-15 02:32:13</td><td>2</td><td>6</td><td>66</td><td>66006</td><td>182.925262451</td><td>-1.09235703945</td><td>0</td><td>0</td><td>0</td><td>1237674648856232075</td><td>182.925269483</td><td>-1.09236649386</td><td>19.3509</td><td>17.3391</td><td>16.4046</td><td>15.9533</td><td>15.648</td></tr>\n",
       "<tr><td>4</td><td>587722981741363323</td><td>1</td><td>http://s3.amazonaws.com/zoo2/4.jpg</td><td>45</td><td>http://cas.sdss.org/dr7/en/tools/quicklook/quickobj.asp?id=587722981741363323</td><td>2009-01-30 15:52:07</td><td>2010-03-30 23:16:57</td><td>2</td><td>5</td><td>77</td><td>77005</td><td>182.970108032</td><td>-1.21953725815</td><td>0</td><td>0</td><td>0</td><td>1237674648856232112</td><td>182.970126477</td><td>-1.21953915091</td><td>18.5501</td><td>16.6486</td><td>15.6884</td><td>15.2109</td><td>14.902</td></tr>\n",
       "<tr><td>245612</td><td>587722981741428877</td><td>1</td><td>http://s3.amazonaws.com/zoo2_extra/245612.jpg</td><td>52</td><td>http://cas.sdss.org/dr7/en/tools/quicklook/quickobj.asp?id=587722981741428877</td><td>2009-09-02 06:31:02</td><td>2010-04-14 21:01:06</td><td>2</td><td>10</td><td>34</td><td>350</td><td>183.02862215</td><td>-1.07270517</td><td>0</td><td>0</td><td>1</td><td>1237648702966333581</td><td>183.028626368</td><td>-1.07271147736</td><td>19.1197</td><td>17.3641</td><td>16.7064</td><td>16.2256</td><td>16.0127</td></tr>\n",
       "<tr><td>5</td><td>587722981741559888</td><td>1</td><td>http://s3.amazonaws.com/zoo2/5.jpg</td><td>53</td><td>http://cas.sdss.org/dr7/en/tools/quicklook/quickobj.asp?id=587722981741559888</td><td>2009-01-30 15:52:07</td><td>2009-12-31 02:14:02</td><td>2</td><td>999</td><td>0</td><td>999</td><td>183.438095093</td><td>-1.23841392994</td><td>0</td><td>0</td><td>0</td><td>1237648702966464577</td><td>183.438108663</td><td>-1.23841758168</td><td>20.5083</td><td>18.7491</td><td>17.3561</td><td>16.8188</td><td>16.5199</td></tr>\n",
       "<tr><td>6</td><td>587722981741625481</td><td>1</td><td>http://s3.amazonaws.com/zoo2/6.jpg</td><td>58</td><td>http://cas.sdss.org/dr7/en/tools/quicklook/quickobj.asp?id=587722981741625481</td><td>2009-01-30 15:52:07</td><td>2010-03-13 03:54:58</td><td>2</td><td>7</td><td>95</td><td>95007</td><td>183.473999023</td><td>-1.23142921925</td><td>0</td><td>0</td><td>0</td><td>1237648702966530213</td><td>183.473985817</td><td>-1.23142963416</td><td>17.6526</td><td>16.4827</td><td>15.864</td><td>15.4917</td><td>15.2874</td></tr>\n",
       "<tr><td>7</td><td>587722981741625484</td><td>1</td><td>http://s3.amazonaws.com/zoo2/7.jpg</td><td>52</td><td>http://cas.sdss.org/dr7/en/tools/quicklook/quickobj.asp?id=587722981741625484</td><td>2009-01-30 15:52:07</td><td>2010-01-18 21:32:06</td><td>2</td><td>9</td><td>25</td><td>25009</td><td>183.477783203</td><td>-1.08460354805</td><td>0</td><td>0</td><td>0</td><td>1237648702966530219</td><td>183.477780976</td><td>-1.08459747567</td><td>19.8283</td><td>17.6795</td><td>16.6919</td><td>16.2476</td><td>15.9</td></tr>\n",
       "<tr><td>8</td><td>587722981741625520</td><td>1</td><td>http://s3.amazonaws.com/zoo2/8.jpg</td><td>45</td><td>http://cas.sdss.org/dr7/en/tools/quicklook/quickobj.asp?id=587722981741625520</td><td>2009-01-30 15:52:07</td><td>2010-04-08 07:30:10</td><td>2</td><td>6</td><td>24</td><td>24006</td><td>183.526199341</td><td>-1.16401135921</td><td>0</td><td>0</td><td>0</td><td>1237648702966530252</td><td>183.526202347</td><td>-1.16399295952</td><td>19.0773</td><td>17.1875</td><td>16.2938</td><td>15.875</td><td>15.5688</td></tr>\n",
       "<tr><td>9</td><td>587722981741625545</td><td>1</td><td>http://s3.amazonaws.com/zoo2/9.jpg</td><td>46</td><td>http://cas.sdss.org/dr7/en/tools/quicklook/quickobj.asp?id=587722981741625545</td><td>2009-01-30 15:52:07</td><td>2010-02-25 20:46:58</td><td>2</td><td>8</td><td>46</td><td>46008</td><td>183.566818237</td><td>-1.13589453697</td><td>0</td><td>0</td><td>0</td><td>1237648702966530271</td><td>183.566819734</td><td>-1.13588105522</td><td>19.3423</td><td>17.4014</td><td>16.3897</td><td>15.9234</td><td>15.5544</td></tr>\n",
       "<tr><td>11</td><td>587722981741756545</td><td>1</td><td>http://s3.amazonaws.com/zoo2/11.jpg</td><td>49</td><td>http://cas.sdss.org/dr7/en/tools/quicklook/quickobj.asp?id=587722981741756545</td><td>2009-01-30 15:52:07</td><td>2009-12-15 22:45:52</td><td>2</td><td>6</td><td>104</td><td>104006</td><td>183.826034546</td><td>-1.10984861851</td><td>0</td><td>0</td><td>0</td><td>1237648702966661167</td><td>183.826028185</td><td>-1.1098500044</td><td>18.3561</td><td>16.3947</td><td>15.5153</td><td>15.0937</td><td>14.7693</td></tr>\n",
       "<tr><td>...</td><td>...</td><td>...</td><td>...</td><td>...</td><td>...</td><td>...</td><td>...</td><td>...</td><td>...</td><td>...</td><td>...</td><td>...</td><td>...</td><td>...</td><td>...</td><td>...</td><td>...</td><td>...</td><td>...</td><td>...</td><td>...</td><td>...</td><td>...</td><td>...</td></tr>\n",
       "<tr><td>245600</td><td>588848901536415884</td><td>1</td><td>http://s3.amazonaws.com/zoo2/245600.jpg</td><td>121</td><td>http://cas.sdss.org/dr7/en/tools/quicklook/quickobj.asp?id=588848901536415884</td><td>2009-01-30 16:11:29</td><td>2010-01-07 12:20:45</td><td>3</td><td>3</td><td>82</td><td>82003</td><td>209.941726685</td><td>1.07579731941</td><td>0</td><td>0</td><td>0</td><td>1237648722854477942</td><td>209.941727362</td><td>1.07579669305</td><td>16.8515</td><td>15.2278</td><td>14.466</td><td>14.0563</td><td>13.7753</td></tr>\n",
       "<tr><td>245601</td><td>588848901536874673</td><td>1</td><td>http://s3.amazonaws.com/zoo2/245601.jpg</td><td>43</td><td>http://cas.sdss.org/dr7/en/tools/quicklook/quickobj.asp?id=588848901536874673</td><td>2009-01-30 16:11:29</td><td>2010-04-12 06:06:07</td><td>3</td><td>7</td><td>7</td><td>7007</td><td>211.031784058</td><td>1.09991204739</td><td>0</td><td>0</td><td>0</td><td>1237674603215192273</td><td>211.031783715</td><td>1.0999129926</td><td>19.5421</td><td>17.6517</td><td>16.7287</td><td>16.3221</td><td>16.0008</td></tr>\n",
       "<tr><td>245602</td><td>588848901537005642</td><td>1</td><td>http://s3.amazonaws.com/zoo2/245602.jpg</td><td>47</td><td>http://cas.sdss.org/dr7/en/tools/quicklook/quickobj.asp?id=588848901537005642</td><td>2009-01-30 16:11:29</td><td>2010-04-14 02:09:16</td><td>3</td><td>11</td><td>22</td><td>22011</td><td>211.3699646</td><td>1.11685919762</td><td>0</td><td>0</td><td>0</td><td>1237648722855067717</td><td>211.369960241</td><td>1.11686101249</td><td>18.7736</td><td>17.2765</td><td>16.4657</td><td>16.0371</td><td>15.7308</td></tr>\n",
       "<tr><td>245603</td><td>588848901537726532</td><td>1</td><td>http://s3.amazonaws.com/zoo2/245603.jpg</td><td>58</td><td>http://cas.sdss.org/dr7/en/tools/quicklook/quickobj.asp?id=588848901537726532</td><td>2009-01-30 16:11:29</td><td>2010-03-08 01:10:49</td><td>3</td><td>13</td><td>8</td><td>8013</td><td>212.976379395</td><td>1.07001471519</td><td>0</td><td>0</td><td>0</td><td>1237651752414150700</td><td>212.976388446</td><td>1.07002390252</td><td>18.7826</td><td>17.5403</td><td>16.8174</td><td>16.3777</td><td>16.1224</td></tr>\n",
       "<tr><td>245604</td><td>588848901537792178</td><td>1</td><td>http://s3.amazonaws.com/zoo2/245604.jpg</td><td>44</td><td>http://cas.sdss.org/dr7/en/tools/quicklook/quickobj.asp?id=588848901537792178</td><td>2009-01-30 16:11:29</td><td>2010-04-10 07:40:44</td><td>3</td><td>3</td><td>5</td><td>5003</td><td>213.150543213</td><td>1.05790174007</td><td>0</td><td>0</td><td>0</td><td>1237651752414216350</td><td>213.150532095</td><td>1.05790532248</td><td>18.2269</td><td>16.935</td><td>16.4058</td><td>16.0811</td><td>15.8885</td></tr>\n",
       "<tr><td>245605</td><td>588848901537988759</td><td>1</td><td>http://s3.amazonaws.com/zoo2/245605.jpg</td><td>45</td><td>http://cas.sdss.org/dr7/en/tools/quicklook/quickobj.asp?id=588848901537988759</td><td>2009-01-30 16:11:29</td><td>2010-04-08 16:10:48</td><td>3</td><td>6</td><td>33</td><td>33006</td><td>213.551971436</td><td>1.0755354166</td><td>0</td><td>0</td><td>0</td><td>1237651752414412927</td><td>213.551968902</td><td>1.07554171723</td><td>19.1472</td><td>17.3272</td><td>16.4523</td><td>16.0689</td><td>15.7677</td></tr>\n",
       "<tr><td>245606</td><td>588848901538447575</td><td>1</td><td>http://s3.amazonaws.com/zoo2/245606.jpg</td><td>45</td><td>http://cas.sdss.org/dr7/en/tools/quicklook/quickobj.asp?id=588848901538447575</td><td>2009-01-30 16:11:29</td><td>2010-04-08 20:03:11</td><td>3</td><td>10</td><td>3</td><td>3010</td><td>214.7084198</td><td>1.05558991432</td><td>0</td><td>0</td><td>0</td><td>1237651752414871742</td><td>214.70841745</td><td>1.05559325693</td><td>19.2633</td><td>17.7377</td><td>16.8503</td><td>16.4149</td><td>16.1027</td></tr>\n",
       "<tr><td>245607</td><td>588848901538578615</td><td>1</td><td>http://s3.amazonaws.com/zoo2/245607.jpg</td><td>45</td><td>http://cas.sdss.org/dr7/en/tools/quicklook/quickobj.asp?id=588848901538578615</td><td>2009-01-30 16:11:29</td><td>2010-04-11 09:03:08</td><td>3</td><td>10</td><td>38</td><td>38010</td><td>214.884597778</td><td>1.07456433773</td><td>0</td><td>0</td><td>0</td><td>1237651752415002762</td><td>214.884585599</td><td>1.0745639947</td><td>19.2323</td><td>17.6544</td><td>16.7104</td><td>16.2449</td><td>15.9216</td></tr>\n",
       "<tr><td>245608</td><td>588848901539430566</td><td>1</td><td>http://s3.amazonaws.com/zoo2/245608.jpg</td><td>47</td><td>http://cas.sdss.org/dr7/en/tools/quicklook/quickobj.asp?id=588848901539430566</td><td>2009-01-30 16:11:29</td><td>2010-03-23 01:14:28</td><td>4</td><td>1</td><td>26</td><td>26001</td><td>216.873550415</td><td>1.05584585667</td><td>0</td><td>0</td><td>0</td><td>1237651752415854874</td><td>216.873540359</td><td>1.05581315933</td><td>17.5581</td><td>16.4606</td><td>16.0199</td><td>15.7664</td><td>15.5908</td></tr>\n",
       "<tr><td>245609</td><td>588848901539627254</td><td>1</td><td>http://s3.amazonaws.com/zoo2/245609.jpg</td><td>51</td><td>http://cas.sdss.org/dr7/en/tools/quicklook/quickobj.asp?id=588848901539627254</td><td>2009-01-30 16:11:29</td><td>2010-01-14 03:18:54</td><td>4</td><td>7</td><td>74</td><td>74007</td><td>217.362579346</td><td>1.04969656467</td><td>0</td><td>0</td><td>0</td><td>1237648705665696012</td><td>217.362587308</td><td>1.04970853815</td><td>18.8022</td><td>17.0126</td><td>16.1056</td><td>15.6979</td><td>15.3835</td></tr>\n",
       "</table>"
      ],
      "text/plain": [
       "<Table masked=True length=247590>\n",
       "  id        dr7objid      project_id ...    r       i       z   \n",
       "int64        int64          int64    ... float32 float32 float32\n",
       "------ ------------------ ---------- ... ------- ------- -------\n",
       "245610 587722981736054938          1 ... 16.9265 16.4148 16.0305\n",
       "     3 587722981741363294          1 ... 16.4046 15.9533  15.648\n",
       "     4 587722981741363323          1 ... 15.6884 15.2109  14.902\n",
       "245612 587722981741428877          1 ... 16.7064 16.2256 16.0127\n",
       "     5 587722981741559888          1 ... 17.3561 16.8188 16.5199\n",
       "     6 587722981741625481          1 ...  15.864 15.4917 15.2874\n",
       "     7 587722981741625484          1 ... 16.6919 16.2476    15.9\n",
       "     8 587722981741625520          1 ... 16.2938  15.875 15.5688\n",
       "     9 587722981741625545          1 ... 16.3897 15.9234 15.5544\n",
       "    11 587722981741756545          1 ... 15.5153 15.0937 14.7693\n",
       "   ...                ...        ... ...     ...     ...     ...\n",
       "245600 588848901536415884          1 ...  14.466 14.0563 13.7753\n",
       "245601 588848901536874673          1 ... 16.7287 16.3221 16.0008\n",
       "245602 588848901537005642          1 ... 16.4657 16.0371 15.7308\n",
       "245603 588848901537726532          1 ... 16.8174 16.3777 16.1224\n",
       "245604 588848901537792178          1 ... 16.4058 16.0811 15.8885\n",
       "245605 588848901537988759          1 ... 16.4523 16.0689 15.7677\n",
       "245606 588848901538447575          1 ... 16.8503 16.4149 16.1027\n",
       "245607 588848901538578615          1 ... 16.7104 16.2449 15.9216\n",
       "245608 588848901539430566          1 ... 16.0199 15.7664 15.5908\n",
       "245609 588848901539627254          1 ... 16.1056 15.6979 15.3835"
      ]
     },
     "execution_count": 36,
     "metadata": {},
     "output_type": "execute_result"
    }
   ],
   "source": [
    "joined"
   ]
  },
  {
   "cell_type": "code",
   "execution_count": null,
   "metadata": {
    "collapsed": true
   },
   "outputs": [],
   "source": []
  }
 ],
 "metadata": {
  "anaconda-cloud": {},
  "kernelspec": {
   "display_name": "Python [Root]",
   "language": "python",
   "name": "Python [Root]"
  },
  "language_info": {
   "codemirror_mode": {
    "name": "ipython",
    "version": 3
   },
   "file_extension": ".py",
   "mimetype": "text/x-python",
   "name": "python",
   "nbconvert_exporter": "python",
   "pygments_lexer": "ipython3",
   "version": "3.5.2"
  }
 },
 "nbformat": 4,
 "nbformat_minor": 0
}
