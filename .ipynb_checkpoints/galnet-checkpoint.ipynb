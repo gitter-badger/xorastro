{
 "cells": [
  {
   "cell_type": "code",
   "execution_count": 86,
   "metadata": {
    "collapsed": false
   },
   "outputs": [],
   "source": [
    "# ------------------------------------------------------------------------------\n",
    "# Set training variables\n",
    "# ------------------------------------------------------------------------------\n",
    "\n",
    "# System level\n",
    "import sys\n",
    "\n",
    "# Arrays\n",
    "import numpy as np\n",
    "\n",
    "# Keras (www.keras.io)\n",
    "from keras.models import Sequential, Model\n",
    "from keras.layers import Input, Flatten, Dense, Activation, Dropout, merge, Concatenate\n",
    "from keras.layers import Conv2D, MaxPooling2D, Convolution2D\n",
    "from keras.layers.normalization import BatchNormalization\n",
    "from keras.optimizers import SGD\n",
    "from keras.models import model_from_json\n",
    "from keras.utils import np_utils\n",
    "from keras import backend as K\n",
    "from keras.callbacks import Callback, ModelCheckpoint\n",
    "from keras.preprocessing.image import ImageDataGenerator\n",
    "\n",
    "# Sklearn (for machine learning)\n",
    "from sklearn import metrics\n",
    "\n",
    "# Plots\n",
    "import matplotlib.cm as cm\n",
    "import matplotlib.image as mpimg\n",
    "import matplotlib.gridspec as gridspec\n",
    "from matplotlib import pyplot as plt\n",
    "from mpl_toolkits.axes_grid1 import make_axes_locatable\n",
    "%matplotlib inline\n",
    "try:\n",
    "    import seaborn as sns\n",
    "except:\n",
    "    pass"
   ]
  },
  {
   "cell_type": "code",
   "execution_count": 87,
   "metadata": {
    "collapsed": true
   },
   "outputs": [],
   "source": [
    "def make_branch(input_shape):\n",
    "    x = Input(shape=input_shape)\n",
    "    c00 = Conv2D(nb_filter=32, kernel_size=(6,6), strides=1, activation='softplus')(x)\n",
    "    p00 = MaxPooling2D(pool_size=(2, 2))(c00)\n",
    "    c01 = Conv2D(nb_filter=64, kernel_size=(5,5), strides=1, activation='softplus')(p00)\n",
    "    p01 = MaxPooling2D(pool_size=(2, 2))(c01)\n",
    "    c02 = Conv2D(nb_filter=128, kernel_size=(3,3), strides=1, activation='softplus')(p01)\n",
    "    c03 = Conv2D(nb_filter=128, kernel_size=(3,3), strides=1, activation='softplus')(c02)\n",
    "    p03 = MaxPooling2D(pool_size=(2, 2))(c03)\n",
    "    return p03"
   ]
  },
  {
   "cell_type": "code",
   "execution_count": 88,
   "metadata": {
    "collapsed": false
   },
   "outputs": [
    {
     "name": "stderr",
     "output_type": "stream",
     "text": [
      "/Users/jegpeek/anaconda3/lib/python3.5/site-packages/ipykernel/__main__.py:14: UserWarning: Update your `Conv2D` call to the Keras 2 API: `Conv2D(activation=\"softplus\", strides=1, kernel_size=(6, 6), filters=32)`\n",
      "/Users/jegpeek/anaconda3/lib/python3.5/site-packages/ipykernel/__main__.py:16: UserWarning: Update your `Conv2D` call to the Keras 2 API: `Conv2D(activation=\"softplus\", strides=1, kernel_size=(5, 5), filters=64)`\n",
      "/Users/jegpeek/anaconda3/lib/python3.5/site-packages/ipykernel/__main__.py:18: UserWarning: Update your `Conv2D` call to the Keras 2 API: `Conv2D(activation=\"softplus\", strides=1, kernel_size=(3, 3), filters=128)`\n",
      "/Users/jegpeek/anaconda3/lib/python3.5/site-packages/ipykernel/__main__.py:19: UserWarning: Update your `Conv2D` call to the Keras 2 API: `Conv2D(activation=\"softplus\", strides=1, kernel_size=(3, 3), filters=128)`\n",
      "/Users/jegpeek/anaconda3/lib/python3.5/site-packages/ipykernel/__main__.py:23: UserWarning: Update your `Conv2D` call to the Keras 2 API: `Conv2D(activation=\"softplus\", strides=1, kernel_size=(6, 6), filters=32)`\n",
      "/Users/jegpeek/anaconda3/lib/python3.5/site-packages/ipykernel/__main__.py:25: UserWarning: Update your `Conv2D` call to the Keras 2 API: `Conv2D(activation=\"softplus\", strides=1, kernel_size=(5, 5), filters=64)`\n",
      "/Users/jegpeek/anaconda3/lib/python3.5/site-packages/ipykernel/__main__.py:27: UserWarning: Update your `Conv2D` call to the Keras 2 API: `Conv2D(activation=\"softplus\", strides=1, kernel_size=(3, 3), filters=128)`\n",
      "/Users/jegpeek/anaconda3/lib/python3.5/site-packages/ipykernel/__main__.py:28: UserWarning: Update your `Conv2D` call to the Keras 2 API: `Conv2D(activation=\"softplus\", strides=1, kernel_size=(3, 3), filters=128)`\n",
      "/Users/jegpeek/anaconda3/lib/python3.5/site-packages/ipykernel/__main__.py:45: UserWarning: Update your `Model` call to the Keras 2 API: `Model(outputs=Tensor(\"de..., inputs=Tensor(\"in...)`\n"
     ]
    },
    {
     "ename": "RuntimeError",
     "evalue": "Graph disconnected: cannot obtain value for tensor Tensor(\"input_245:0\", shape=(?, 45, 45, 1), dtype=float32) at layer \"input_245\". The following previous layers were accessed without issue: []",
     "output_type": "error",
     "traceback": [
      "\u001b[0;31m---------------------------------------------------------------------------\u001b[0m",
      "\u001b[0;31mRuntimeError\u001b[0m                              Traceback (most recent call last)",
      "\u001b[0;32m<ipython-input-88-bc92ba201589>\u001b[0m in \u001b[0;36m<module>\u001b[0;34m()\u001b[0m\n\u001b[1;32m     43\u001b[0m \u001b[0my\u001b[0m \u001b[0;34m=\u001b[0m \u001b[0mDense\u001b[0m\u001b[0;34m(\u001b[0m\u001b[0;36m1\u001b[0m\u001b[0;34m)\u001b[0m\u001b[0;34m(\u001b[0m\u001b[0md1\u001b[0m\u001b[0;34m)\u001b[0m\u001b[0;34m\u001b[0m\u001b[0m\n\u001b[1;32m     44\u001b[0m \u001b[0;34m\u001b[0m\u001b[0m\n\u001b[0;32m---> 45\u001b[0;31m \u001b[0mmodel\u001b[0m \u001b[0;34m=\u001b[0m \u001b[0mModel\u001b[0m\u001b[0;34m(\u001b[0m\u001b[0minput\u001b[0m\u001b[0;34m=\u001b[0m\u001b[0mx\u001b[0m\u001b[0;34m,\u001b[0m \u001b[0moutputs\u001b[0m\u001b[0;34m=\u001b[0m\u001b[0my\u001b[0m\u001b[0;34m)\u001b[0m\u001b[0;34m\u001b[0m\u001b[0m\n\u001b[0m\u001b[1;32m     46\u001b[0m \u001b[0;34m\u001b[0m\u001b[0m\n\u001b[1;32m     47\u001b[0m \u001b[0moptimizer\u001b[0m \u001b[0;34m=\u001b[0m \u001b[0;34m'adadelta'\u001b[0m\u001b[0;34m\u001b[0m\u001b[0m\n",
      "\u001b[0;32m/Users/jegpeek/anaconda3/lib/python3.5/site-packages/Keras-2.0.5-py3.5.egg/keras/legacy/interfaces.py\u001b[0m in \u001b[0;36mwrapper\u001b[0;34m(*args, **kwargs)\u001b[0m\n\u001b[1;32m     86\u001b[0m                 warnings.warn('Update your `' + object_name +\n\u001b[1;32m     87\u001b[0m                               '` call to the Keras 2 API: ' + signature, stacklevel=2)\n\u001b[0;32m---> 88\u001b[0;31m             \u001b[0;32mreturn\u001b[0m \u001b[0mfunc\u001b[0m\u001b[0;34m(\u001b[0m\u001b[0;34m*\u001b[0m\u001b[0margs\u001b[0m\u001b[0;34m,\u001b[0m \u001b[0;34m**\u001b[0m\u001b[0mkwargs\u001b[0m\u001b[0;34m)\u001b[0m\u001b[0;34m\u001b[0m\u001b[0m\n\u001b[0m\u001b[1;32m     89\u001b[0m         \u001b[0mwrapper\u001b[0m\u001b[0;34m.\u001b[0m\u001b[0m_legacy_support_signature\u001b[0m \u001b[0;34m=\u001b[0m \u001b[0minspect\u001b[0m\u001b[0;34m.\u001b[0m\u001b[0mgetargspec\u001b[0m\u001b[0;34m(\u001b[0m\u001b[0mfunc\u001b[0m\u001b[0;34m)\u001b[0m\u001b[0;34m\u001b[0m\u001b[0m\n\u001b[1;32m     90\u001b[0m         \u001b[0;32mreturn\u001b[0m \u001b[0mwrapper\u001b[0m\u001b[0;34m\u001b[0m\u001b[0m\n",
      "\u001b[0;32m/Users/jegpeek/anaconda3/lib/python3.5/site-packages/Keras-2.0.5-py3.5.egg/keras/engine/topology.py\u001b[0m in \u001b[0;36m__init__\u001b[0;34m(self, inputs, outputs, name)\u001b[0m\n\u001b[1;32m   1780\u001b[0m                                 \u001b[0;34m'The following previous layers '\u001b[0m\u001b[0;34m\u001b[0m\u001b[0m\n\u001b[1;32m   1781\u001b[0m                                 \u001b[0;34m'were accessed without issue: '\u001b[0m \u001b[0;34m+\u001b[0m\u001b[0;34m\u001b[0m\u001b[0m\n\u001b[0;32m-> 1782\u001b[0;31m                                 str(layers_with_complete_input))\n\u001b[0m\u001b[1;32m   1783\u001b[0m                     \u001b[0;32mfor\u001b[0m \u001b[0mx\u001b[0m \u001b[0;32min\u001b[0m \u001b[0mnode\u001b[0m\u001b[0;34m.\u001b[0m\u001b[0moutput_tensors\u001b[0m\u001b[0;34m:\u001b[0m\u001b[0;34m\u001b[0m\u001b[0m\n\u001b[1;32m   1784\u001b[0m                         \u001b[0mcomputable_tensors\u001b[0m\u001b[0;34m.\u001b[0m\u001b[0mappend\u001b[0m\u001b[0;34m(\u001b[0m\u001b[0mx\u001b[0m\u001b[0;34m)\u001b[0m\u001b[0;34m\u001b[0m\u001b[0m\n",
      "\u001b[0;31mRuntimeError\u001b[0m: Graph disconnected: cannot obtain value for tensor Tensor(\"input_245:0\", shape=(?, 45, 45, 1), dtype=float32) at layer \"input_245\". The following previous layers were accessed without issue: []"
     ]
    }
   ],
   "source": [
    "# ------------------------------------------------------------------------------\n",
    "# Set up model architecture\n",
    "# see Figure 4, Figure 8, and Table 2 of Dielemannnnn paper\n",
    "# ------------------------------------------------------------------------------\n",
    "\n",
    "# Define architecture for model\n",
    "#data_shape = [45, 45] #np.shape(x_data)\n",
    "input_shape = (45, 45, 1)\n",
    "\n",
    "# merge via concatenation\n",
    "#branch_list = []\n",
    "# DOING IT THE HARD WAY   \n",
    "x00 = Input(shape=input_shape)\n",
    "c00_0 = Conv2D(nb_filter=32, kernel_size=(6,6), strides=1, activation='softplus')(x00)\n",
    "p00_0 = MaxPooling2D(pool_size=(2, 2))(c00_0)\n",
    "c00_1 = Conv2D(nb_filter=64, kernel_size=(5,5), strides=1, activation='softplus')(p00_0)\n",
    "p00_1 = MaxPooling2D(pool_size=(2, 2))(c00_1)\n",
    "c00_2 = Conv2D(nb_filter=128, kernel_size=(3,3), strides=1, activation='softplus')(p00_1)\n",
    "c00_3 = Conv2D(nb_filter=128, kernel_size=(3,3), strides=1, activation='softplus')(c00_2)\n",
    "p00_3 = MaxPooling2D(pool_size=(2, 2))(c00_3)\n",
    "\n",
    "x00 = Input(shape=input_shape)\n",
    "c00_0 = Conv2D(nb_filter=32, kernel_size=(6,6), strides=1, activation='softplus')(x00)\n",
    "p00_0 = MaxPooling2D(pool_size=(2, 2))(c00_0)\n",
    "c00_1 = Conv2D(nb_filter=64, kernel_size=(5,5), strides=1, activation='softplus')(p00_0)\n",
    "p01 = MaxPooling2D(pool_size=(2, 2))(c00_1)\n",
    "c02 = Conv2D(nb_filter=128, kernel_size=(3,3), strides=1, activation='softplus')(p01)\n",
    "c03 = Conv2D(nb_filter=128, kernel_size=(3,3), strides=1, activation='softplus')(c02)\n",
    "p03 = MaxPooling2D(pool_size=(2, 2))(c03)\n",
    "\n",
    "\n",
    "\n",
    "#a1 = make_branch(input_shape)\n",
    "#a2 = make_branch(input_shape)\n",
    "#merge = Concatenate()(16*[p03]) #[a1, a2])\n",
    "#([make_branch() for i in range(16)])\n",
    "\n",
    "# Dense layers\n",
    "d0 = Dense(2048)(p03)\n",
    "d1 = Dense(2048)(d0)\n",
    "\n",
    "#output layer\n",
    "y = Dense(1)(d1)\n",
    "\n",
    "model = Model(input=x, outputs=y)\n",
    "\n",
    "optimizer = 'adadelta'\n",
    "metrics_model = ['accuracy']\n",
    "loss = 'mse'\n",
    "model.compile(loss=loss, optimizer=optimizer, metrics=metrics_model)\n",
    "model.summary()"
   ]
  },
  {
   "cell_type": "code",
   "execution_count": null,
   "metadata": {
    "collapsed": true
   },
   "outputs": [],
   "source": []
  },
  {
   "cell_type": "code",
   "execution_count": null,
   "metadata": {
    "collapsed": true
   },
   "outputs": [],
   "source": []
  }
 ],
 "metadata": {
  "kernelspec": {
   "display_name": "Python [Root]",
   "language": "python",
   "name": "Python [Root]"
  },
  "language_info": {
   "codemirror_mode": {
    "name": "ipython",
    "version": 3
   },
   "file_extension": ".py",
   "mimetype": "text/x-python",
   "name": "python",
   "nbconvert_exporter": "python",
   "pygments_lexer": "ipython3",
   "version": "3.5.2"
  }
 },
 "nbformat": 4,
 "nbformat_minor": 2
}
