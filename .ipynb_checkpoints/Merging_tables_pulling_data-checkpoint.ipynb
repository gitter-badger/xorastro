{
 "cells": [
  {
   "cell_type": "markdown",
   "metadata": {},
   "source": [
    "OK, in this notebook we are going to read in the data, match it, and pull the images"
   ]
  },
  {
   "cell_type": "code",
   "execution_count": 1,
   "metadata": {
    "collapsed": false
   },
   "outputs": [],
   "source": [
    "import astropy.io.ascii as ascii\n",
    "import numpy as np\n",
    "from PIL import Image\n",
    "import requests\n",
    "from io import BytesIO\n",
    "import astropy.visualization as viz\n",
    "import matplotlib.pyplot as plt\n",
    "import astropy.io.fits as fits\n",
    "import astropy.wcs as WCS # you need this astropy module for processing fits files\n",
    "import matplotlib as mpl\n",
    "import numpy as np\n",
    "import tqdm\n",
    "from astropy.table import Table, join\n",
    "%matplotlib inline"
   ]
  },
  {
   "cell_type": "markdown",
   "metadata": {},
   "source": [
    "Read in the CSV file of all the Galaxy Zoo data"
   ]
  },
  {
   "cell_type": "code",
   "execution_count": 2,
   "metadata": {
    "collapsed": true
   },
   "outputs": [],
   "source": [
    "filename = 'galaxyzoo2--assets--14-07-2017.csv'\n",
    "path = '/Users/jegpeek/Dropbox/xorastro/'\n",
    "data = ascii.read(path + filename, format='csv', fast_reader=False)"
   ]
  },
  {
   "cell_type": "markdown",
   "metadata": {},
   "source": [
    "And then read in the meta data with color information from CASJobs"
   ]
  },
  {
   "cell_type": "code",
   "execution_count": 3,
   "metadata": {
    "collapsed": true
   },
   "outputs": [],
   "source": [
    "metadata = Table.read(path + \"xorastro_metadata_dr7id.fits\")"
   ]
  },
  {
   "cell_type": "markdown",
   "metadata": {},
   "source": [
    "To do the crossmatch, we need to rename the 'name' key to 'dr7objid'"
   ]
  },
  {
   "cell_type": "code",
   "execution_count": 4,
   "metadata": {
    "collapsed": true
   },
   "outputs": [],
   "source": [
    "data.rename_column('name', 'dr7objid')"
   ]
  },
  {
   "cell_type": "markdown",
   "metadata": {},
   "source": [
    "and then join them using astropy Table inner join:"
   ]
  },
  {
   "cell_type": "code",
   "execution_count": 5,
   "metadata": {
    "collapsed": true
   },
   "outputs": [],
   "source": [
    "joined = join(data, metadata, keys=['dr7objid'])"
   ]
  },
  {
   "cell_type": "markdown",
   "metadata": {},
   "source": [
    "and then let's make sure things don't look crazy in RA and dec..."
   ]
  },
  {
   "cell_type": "code",
   "execution_count": 6,
   "metadata": {
    "collapsed": false
   },
   "outputs": [
    {
     "data": {
      "text/plain": [
       "(array([    530.,    1145.,    2860.,    9434.,   93979.,  112457.,\n",
       "          13176.,    5489.,    3262.,    1984.]),\n",
       " array([ -1.00000000e-04,  -8.00000000e-05,  -6.00000000e-05,\n",
       "         -4.00000000e-05,  -2.00000000e-05,   0.00000000e+00,\n",
       "          2.00000000e-05,   4.00000000e-05,   6.00000000e-05,\n",
       "          8.00000000e-05,   1.00000000e-04]),\n",
       " <a list of 10 Patch objects>)"
      ]
     },
     "execution_count": 6,
     "metadata": {},
     "output_type": "execute_result"
    },
    {
     "data": {
      "image/png": "[encoded data removed]",
      "text/plain": [
       "<matplotlib.figure.Figure at 0x1051946a0>"
      ]
     },
     "metadata": {},
     "output_type": "display_data"
    }
   ],
   "source": [
    "plt.hist(joined['ra_1']-joined['ra_2'], range=[-0.0001, 0.0001])"
   ]
  },
  {
   "cell_type": "code",
   "execution_count": 7,
   "metadata": {
    "collapsed": false
   },
   "outputs": [
    {
     "data": {
      "text/plain": [
       "(array([   8855.,   13564.,    8180.,    7051.,  103486.,   97302.,\n",
       "           4472.,     610.,     222.,     104.]),\n",
       " array([ -1.00000000e-04,  -8.00000000e-05,  -6.00000000e-05,\n",
       "         -4.00000000e-05,  -2.00000000e-05,   0.00000000e+00,\n",
       "          2.00000000e-05,   4.00000000e-05,   6.00000000e-05,\n",
       "          8.00000000e-05,   1.00000000e-04]),\n",
       " <a list of 10 Patch objects>)"
      ]
     },
     "execution_count": 7,
     "metadata": {},
     "output_type": "execute_result"
    },
    {
     "data": {
      "image/png": "[encoded data removed]",
      "text/plain": [
       "<matplotlib.figure.Figure at 0x12ee72b70>"
      ]
     },
     "metadata": {},
     "output_type": "display_data"
    }
   ],
   "source": [
    "plt.hist(joined['dec_1']-joined['dec_2'], range=[-0.0001, 0.0001])"
   ]
  },
  {
   "cell_type": "markdown",
   "metadata": {},
   "source": [
    "Looks good! subarcsecond matching is fine by us."
   ]
  },
  {
   "cell_type": "code",
   "execution_count": null,
   "metadata": {
    "collapsed": true
   },
   "outputs": [],
   "source": [
    "imgcube = np.zeros([424, 424, len(joined)])\n",
    "for i, d in enumerate(joined):\n",
    "    response = requests.get(d['location'])\n",
    "    img = Image.open(BytesIO(response.content))\n",
    "    red, green, blue = img.split()\n",
    "    imgcube[:, :, i] = green # confusingly green is SDSS r band"
   ]
  },
  {
   "cell_type": "code",
   "execution_count": null,
   "metadata": {
    "collapsed": false
   },
   "outputs": [],
   "source": [
    "plt.imshow(imgcube[:, :, 0], cmap='Greys')\n",
    "plt.show()"
   ]
  },
  {
   "cell_type": "code",
   "execution_count": null,
   "metadata": {
    "collapsed": false
   },
   "outputs": [],
   "source": [
    "np.save('imgcube.npy', imgcube)"
   ]
  }
 ],
 "metadata": {
  "anaconda-cloud": {},
  "kernelspec": {
   "display_name": "Python [Root]",
   "language": "python",
   "name": "Python [Root]"
  },
  "language_info": {
   "codemirror_mode": {
    "name": "ipython",
    "version": 3
   },
   "file_extension": ".py",
   "mimetype": "text/x-python",
   "name": "python",
   "nbconvert_exporter": "python",
   "pygments_lexer": "ipython3",
   "version": "3.5.2"
  }
 },
 "nbformat": 4,
 "nbformat_minor": 0
}
